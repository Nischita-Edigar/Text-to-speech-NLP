{
 "cells": [
  {
   "cell_type": "code",
   "execution_count": 1,
   "id": "2236de1c",
   "metadata": {},
   "outputs": [],
   "source": [
    "import nltk\n"
   ]
  },
  {
   "cell_type": "code",
   "execution_count": 2,
   "id": "d312b5d8",
   "metadata": {},
   "outputs": [],
   "source": [
    "import nltk.corpus"
   ]
  },
  {
   "cell_type": "code",
   "execution_count": 3,
   "id": "11382ac7",
   "metadata": {},
   "outputs": [],
   "source": [
    "from nltk.tokenize import word_tokenize"
   ]
  },
  {
   "cell_type": "code",
   "execution_count": 4,
   "id": "ca437786",
   "metadata": {},
   "outputs": [],
   "source": [
    "text = \"Samay Raina is the best chess streamer in the world\"\n"
   ]
  },
  {
   "cell_type": "code",
   "execution_count": 5,
   "id": "69064be8",
   "metadata": {},
   "outputs": [
    {
     "data": {
      "text/plain": [
       "['Samay',\n",
       " 'Raina',\n",
       " 'is',\n",
       " 'the',\n",
       " 'best',\n",
       " 'chess',\n",
       " 'streamer',\n",
       " 'in',\n",
       " 'the',\n",
       " 'world']"
      ]
     },
     "execution_count": 5,
     "metadata": {},
     "output_type": "execute_result"
    }
   ],
   "source": [
    "word_tokenize(text)"
   ]
  },
  {
   "cell_type": "code",
   "execution_count": 6,
   "id": "3aaa7de8",
   "metadata": {},
   "outputs": [],
   "source": [
    "from nltk.tokenize import sent_tokenize"
   ]
  },
  {
   "cell_type": "code",
   "execution_count": 7,
   "id": "9a672595",
   "metadata": {},
   "outputs": [
    {
     "data": {
      "text/plain": [
       "['samya raina is the best chess streamer in the world.',\n",
       " 'sagar shah is the best chess coach']"
      ]
     },
     "execution_count": 7,
     "metadata": {},
     "output_type": "execute_result"
    }
   ],
   "source": [
    "text2 = \"samya raina is the best chess streamer in the world. sagar shah is the best chess coach\"\n",
    "sent_tokenize(text2)"
   ]
  },
  {
   "cell_type": "code",
   "execution_count": 8,
   "id": "e92a6e13",
   "metadata": {},
   "outputs": [
    {
     "data": {
      "text/plain": [
       "10"
      ]
     },
     "execution_count": 8,
     "metadata": {},
     "output_type": "execute_result"
    }
   ],
   "source": [
    "len(word_tokenize(text))"
   ]
  },
  {
   "cell_type": "code",
   "execution_count": 9,
   "id": "17254e51",
   "metadata": {},
   "outputs": [],
   "source": [
    "astronaut = \"can anybody here me or i talking to myself?\"\n",
    "astronaut_token = (word_tokenize(astronaut))\n"
   ]
  },
  {
   "cell_type": "code",
   "execution_count": 10,
   "id": "e8ae890f",
   "metadata": {},
   "outputs": [
    {
     "data": {
      "text/plain": [
       "[('can', 'anybody', 'here', 'me', 'or'),\n",
       " ('anybody', 'here', 'me', 'or', 'i'),\n",
       " ('here', 'me', 'or', 'i', 'talking'),\n",
       " ('me', 'or', 'i', 'talking', 'to'),\n",
       " ('or', 'i', 'talking', 'to', 'myself'),\n",
       " ('i', 'talking', 'to', 'myself', '?')]"
      ]
     },
     "execution_count": 10,
     "metadata": {},
     "output_type": "execute_result"
    }
   ],
   "source": [
    "list(nltk.bigrams(astronaut_token))\n",
    "list(nltk.trigrams(astronaut_token))\n",
    "list(nltk.ngrams(astronaut_token, 5))\n",
    "\n"
   ]
  },
  {
   "cell_type": "code",
   "execution_count": 11,
   "id": "5fafa98f",
   "metadata": {},
   "outputs": [],
   "source": [
    "from nltk.stem import PorterStemmer"
   ]
  },
  {
   "cell_type": "code",
   "execution_count": 12,
   "id": "3818fea2",
   "metadata": {},
   "outputs": [
    {
     "data": {
      "text/plain": [
       "'shop'"
      ]
     },
     "execution_count": 12,
     "metadata": {},
     "output_type": "execute_result"
    }
   ],
   "source": [
    "my_stem = PorterStemmer()\n",
    "my_stem.stem(\"eating\")\n",
    "my_stem.stem(\"going\")\n",
    "my_stem.stem(\"shopping\")\n"
   ]
  },
  {
   "cell_type": "code",
   "execution_count": 13,
   "id": "6e1cc112",
   "metadata": {},
   "outputs": [],
   "source": [
    "tom = \"tom hanks is the best actor\"\n",
    "tom_token = word_tokenize(tom)\n"
   ]
  },
  {
   "cell_type": "code",
   "execution_count": 14,
   "id": "e76e80b5",
   "metadata": {},
   "outputs": [
    {
     "data": {
      "text/plain": [
       "[('tom', 'JJ'),\n",
       " ('hanks', 'NNS'),\n",
       " ('is', 'VBZ'),\n",
       " ('the', 'DT'),\n",
       " ('best', 'JJS'),\n",
       " ('actor', 'NN')]"
      ]
     },
     "execution_count": 14,
     "metadata": {},
     "output_type": "execute_result"
    }
   ],
   "source": [
    "nltk.pos_tag(tom_token)"
   ]
  },
  {
   "cell_type": "code",
   "execution_count": 15,
   "id": "96737fac",
   "metadata": {},
   "outputs": [],
   "source": [
    "\n",
    "from nltk import ne_chunk"
   ]
  },
  {
   "cell_type": "code",
   "execution_count": 16,
   "id": "774748f9",
   "metadata": {},
   "outputs": [],
   "source": [
    "president = \"barak obama was the 4th president of America\""
   ]
  },
  {
   "cell_type": "code",
   "execution_count": 17,
   "id": "b7c7f47e",
   "metadata": {},
   "outputs": [],
   "source": [
    "president_token = word_tokenize(president)"
   ]
  },
  {
   "cell_type": "code",
   "execution_count": 18,
   "id": "8cde09b1",
   "metadata": {},
   "outputs": [],
   "source": [
    "president_pos = nltk.pos_tag(president_token)"
   ]
  },
  {
   "cell_type": "code",
   "execution_count": null,
   "id": "42381418",
   "metadata": {},
   "outputs": [],
   "source": [
    "\n",
    "\n"
   ]
  },
  {
   "cell_type": "code",
   "execution_count": null,
   "id": "60034368",
   "metadata": {},
   "outputs": [],
   "source": [
    "pip install gTTS"
   ]
  },
  {
   "cell_type": "code",
   "execution_count": 22,
   "id": "b9ea8905",
   "metadata": {},
   "outputs": [
    {
     "data": {
      "text/html": [
       "\n",
       "                <audio  controls=\"controls\" autoplay=\"autoplay\">\n",
       "                    <source src=\"data:audio/wav;base64,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\" type=\"audio/wav\" />\n",
       "                    Your browser does not support the audio element.\n",
       "                </audio>\n",
       "              "
      ],
      "text/plain": [
       "<IPython.lib.display.Audio object>"
      ]
     },
     "execution_count": 22,
     "metadata": {},
     "output_type": "execute_result"
    }
   ],
   "source": [
    "from gtts import gTTS\n",
    "from IPython.display import Audio\n",
    "tts = gTTS('Hey this is Nischita, how are you')\n",
    "tts.save('1.wav')\n",
    "sound_file = '1.wav'\n",
    "Audio(sound_file, autoplay=True)"
   ]
  },
  {
   "cell_type": "code",
   "execution_count": null,
   "id": "fc5844f9",
   "metadata": {},
   "outputs": [],
   "source": []
  }
 ],
 "metadata": {
  "kernelspec": {
   "display_name": "Python 3 (ipykernel)",
   "language": "python",
   "name": "python3"
  },
  "language_info": {
   "codemirror_mode": {
    "name": "ipython",
    "version": 3
   },
   "file_extension": ".py",
   "mimetype": "text/x-python",
   "name": "python",
   "nbconvert_exporter": "python",
   "pygments_lexer": "ipython3",
   "version": "3.9.12"
  }
 },
 "nbformat": 4,
 "nbformat_minor": 5
}
